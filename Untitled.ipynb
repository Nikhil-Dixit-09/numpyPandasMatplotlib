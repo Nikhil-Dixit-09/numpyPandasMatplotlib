{
 "cells": [
  {
   "cell_type": "code",
   "execution_count": 16,
   "id": "39bb4065",
   "metadata": {},
   "outputs": [
    {
     "name": "stdout",
     "output_type": "stream",
     "text": [
      "   S.No.    Name  Class  Roll\n",
      "0      1  Nikhil      9    50\n",
      "1      2     Abc      9    49\n",
      "2      3     Def      9    58\n",
      "3      4     Ghi      9    47\n",
      "S.No.      4\n",
      "Name     Ghi\n",
      "Class      9\n",
      "Roll      47\n",
      "Name: 3, dtype: object\n"
     ]
    }
   ],
   "source": [
    "import pandas as pd\n",
    "ds=pd.read_excel(\"test.xlsx\")\n",
    "print(ds)\n",
    "print(ds.iloc[3])\n"
   ]
  },
  {
   "cell_type": "code",
   "execution_count": 24,
   "id": "a0fd08ba",
   "metadata": {},
   "outputs": [
    {
     "name": "stdout",
     "output_type": "stream",
     "text": [
      "[1 2 3]\n",
      "[1 1 1 1 1]\n",
      "[[0 0 0 0]\n",
      " [0 0 0 0]\n",
      " [0 0 0 0]]\n",
      "[5 5 5]\n",
      "[[5 5 5 5]\n",
      " [5 5 5 5]\n",
      " [5 5 5 5]]\n"
     ]
    }
   ],
   "source": [
    "import numpy as np\n",
    "a=[1,2,3]\n",
    "b=np.array(a,dtype='int')\n",
    "print(b)\n",
    "#np.zeros\n",
    "#by default float\n",
    "c=np.ones(5,dtype='int')\n",
    "print(c)\n",
    "d=np.zeros((3,4),dtype='int')\n",
    "print(d)\n",
    "e=np.full(3,5)\n",
    "print(e)\n",
    "f=np.full((3,4),5)\n",
    "print(f)"
   ]
  },
  {
   "cell_type": "code",
   "execution_count": 37,
   "id": "2151c3a3",
   "metadata": {},
   "outputs": [
    {
     "name": "stdout",
     "output_type": "stream",
     "text": [
      "[1 1 1]\n",
      "[2 2 2]\n",
      "(array([0, 1, 2], dtype=int64),)\n"
     ]
    }
   ],
   "source": [
    "g=np.arange(0,10,2,dtype='int')\n",
    "# print(g)\n",
    "# b=np.identity(3)\n",
    "# print(b)\n",
    "# b=np.eye(3,4)\n",
    "# print(b)\n",
    "b=np.ones(3,dtype='int')\n",
    "print(b)\n",
    "b=b+1\n",
    "b\n",
    "newarr=b[b<=2]\n",
    "print(newarr)\n",
    "ind=np.where(b==2)\n",
    "print(ind)\n",
    "#print(a[ind])"
   ]
  }
 ],
 "metadata": {
  "kernelspec": {
   "display_name": "Python 3 (ipykernel)",
   "language": "python",
   "name": "python3"
  },
  "language_info": {
   "codemirror_mode": {
    "name": "ipython",
    "version": 3
   },
   "file_extension": ".py",
   "mimetype": "text/x-python",
   "name": "python",
   "nbconvert_exporter": "python",
   "pygments_lexer": "ipython3",
   "version": "3.10.5"
  }
 },
 "nbformat": 4,
 "nbformat_minor": 5
}
