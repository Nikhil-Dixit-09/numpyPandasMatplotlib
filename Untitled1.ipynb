{
 "cells": [
  {
   "cell_type": "code",
   "execution_count": 4,
   "id": "4aa0fb3b",
   "metadata": {},
   "outputs": [
    {
     "name": "stdout",
     "output_type": "stream",
     "text": [
      "[[1 8 1]\n",
      " [3 3 9]\n",
      " [2 7 8]]\n",
      "[[2 2 2]\n",
      " [9 2 5]\n",
      " [6 4 5]]\n",
      "[[-1  6 -1]\n",
      " [-6  1  4]\n",
      " [-4  3  3]]\n"
     ]
    }
   ],
   "source": [
    "import numpy as np\n",
    "a=np.random.randint(1,10,(3,3))\n",
    "b=np.random.randint(1,10,(3,3))\n",
    "print(a)\n",
    "print(b)\n",
    "ans=a-b\n",
    "print(ans)"
   ]
  },
  {
   "cell_type": "code",
   "execution_count": 6,
   "id": "85969e5f",
   "metadata": {},
   "outputs": [
    {
     "name": "stdout",
     "output_type": "stream",
     "text": [
      "[[2 1 9]\n",
      " [3 5 6]\n",
      " [2 6 5]]\n",
      "[7 4 9]\n",
      "[[-5 -3  0]\n",
      " [-4  1 -3]\n",
      " [-5  2 -4]]\n"
     ]
    }
   ],
   "source": [
    "import numpy as np\n",
    "a=np.random.randint(1,10,(3,3))\n",
    "b=np.random.randint(1,10,3)\n",
    "print(a)\n",
    "print(b)\n",
    "ans=a-b\n",
    "print(ans)"
   ]
  },
  {
   "cell_type": "code",
   "execution_count": 8,
   "id": "fbe6e401",
   "metadata": {},
   "outputs": [
    {
     "name": "stdout",
     "output_type": "stream",
     "text": [
      "[[8 8]\n",
      " [5 1]\n",
      " [7 7]]\n",
      "[[2 6]\n",
      " [2 1]\n",
      " [3 7]]\n",
      "[[6 2]\n",
      " [3 0]\n",
      " [4 0]]\n"
     ]
    }
   ],
   "source": [
    "import numpy as np\n",
    "a=np.random.randint(1,10,(2,3))\n",
    "b=np.random.randint(1,10,(3,2))\n",
    "a=np.transpose(a)\n",
    "print(a)\n",
    "print(b)\n",
    "ans=a-b\n",
    "print(ans)"
   ]
  }
 ],
 "metadata": {
  "kernelspec": {
   "display_name": "Python 3 (ipykernel)",
   "language": "python",
   "name": "python3"
  },
  "language_info": {
   "codemirror_mode": {
    "name": "ipython",
    "version": 3
   },
   "file_extension": ".py",
   "mimetype": "text/x-python",
   "name": "python",
   "nbconvert_exporter": "python",
   "pygments_lexer": "ipython3",
   "version": "3.10.5"
  }
 },
 "nbformat": 4,
 "nbformat_minor": 5
}
