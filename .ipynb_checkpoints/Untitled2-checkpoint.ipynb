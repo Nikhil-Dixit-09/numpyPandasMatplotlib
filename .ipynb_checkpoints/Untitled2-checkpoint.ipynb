{
 "cells": [
  {
   "cell_type": "code",
   "execution_count": 11,
   "id": "5ebd36bc",
   "metadata": {},
   "outputs": [
    {
     "name": "stdout",
     "output_type": "stream",
     "text": [
      "['50', '49', '58', '47']\n"
     ]
    },
    {
     "data": {
      "text/plain": [
       "array([50,  0, 58, 47])"
      ]
     },
     "execution_count": 11,
     "metadata": {},
     "output_type": "execute_result"
    }
   ],
   "source": [
    "import numpy as np\n",
    "import csv\n",
    "file_obj=open('Test.csv')\n",
    "data=csv.DictReader(file_obj,skipinitialspace=True)\n",
    "roll=[]\n",
    "for row in data:\n",
    "    roll.append(row['Roll'])\n",
    "print(roll)\n",
    "np_roll=np.array(roll)\n",
    "np_roll==''\n",
    "np_roll[np_roll=='49']='0.0'\n",
    "np_roll\n",
    "np_roll=np.array(np_roll,dtype='float')\n",
    "np_roll=np.array(np_roll,dtype='int')\n",
    "np_roll\n",
    "\n",
    "#boolarray=np_country=='India'\n",
    "#kiile_wounded=a+b[boolarray]"
   ]
  }
 ],
 "metadata": {
  "kernelspec": {
   "display_name": "Python 3 (ipykernel)",
   "language": "python",
   "name": "python3"
  },
  "language_info": {
   "codemirror_mode": {
    "name": "ipython",
    "version": 3
   },
   "file_extension": ".py",
   "mimetype": "text/x-python",
   "name": "python",
   "nbconvert_exporter": "python",
   "pygments_lexer": "ipython3",
   "version": "3.10.5"
  }
 },
 "nbformat": 4,
 "nbformat_minor": 5
}
