{
 "cells": [
  {
   "cell_type": "code",
   "execution_count": 2,
   "id": "61b6a8fa",
   "metadata": {},
   "outputs": [],
   "source": [
    "import pandas as pd\n",
    "import numpy as np\n",
    "data=pd.read_csv('HDFCBANK.csv')"
   ]
  },
  {
   "cell_type": "code",
   "execution_count": 3,
   "id": "862bcc9a",
   "metadata": {},
   "outputs": [],
   "source": [
    "df=data.copy()"
   ]
  },
  {
   "cell_type": "code",
   "execution_count": 4,
   "id": "7808cb30",
   "metadata": {},
   "outputs": [
    {
     "data": {
      "text/html": [
       "<div>\n",
       "<style scoped>\n",
       "    .dataframe tbody tr th:only-of-type {\n",
       "        vertical-align: middle;\n",
       "    }\n",
       "\n",
       "    .dataframe tbody tr th {\n",
       "        vertical-align: top;\n",
       "    }\n",
       "\n",
       "    .dataframe thead th {\n",
       "        text-align: right;\n",
       "    }\n",
       "</style>\n",
       "<table border=\"1\" class=\"dataframe\">\n",
       "  <thead>\n",
       "    <tr style=\"text-align: right;\">\n",
       "      <th></th>\n",
       "      <th>Date</th>\n",
       "      <th>Open</th>\n",
       "      <th>High</th>\n",
       "      <th>Low</th>\n",
       "      <th>Close</th>\n",
       "      <th>Adj Close</th>\n",
       "      <th>Volume</th>\n",
       "    </tr>\n",
       "  </thead>\n",
       "  <tbody>\n",
       "    <tr>\n",
       "      <th>0</th>\n",
       "      <td>1996-01-01</td>\n",
       "      <td>3.030</td>\n",
       "      <td>3.030</td>\n",
       "      <td>2.925</td>\n",
       "      <td>2.980</td>\n",
       "      <td>0.595425</td>\n",
       "      <td>350000.0</td>\n",
       "    </tr>\n",
       "    <tr>\n",
       "      <th>1</th>\n",
       "      <td>1996-01-02</td>\n",
       "      <td>2.980</td>\n",
       "      <td>3.025</td>\n",
       "      <td>2.950</td>\n",
       "      <td>2.975</td>\n",
       "      <td>0.594426</td>\n",
       "      <td>412000.0</td>\n",
       "    </tr>\n",
       "    <tr>\n",
       "      <th>2</th>\n",
       "      <td>1996-01-03</td>\n",
       "      <td>2.975</td>\n",
       "      <td>2.995</td>\n",
       "      <td>2.950</td>\n",
       "      <td>2.985</td>\n",
       "      <td>0.596424</td>\n",
       "      <td>284000.0</td>\n",
       "    </tr>\n",
       "    <tr>\n",
       "      <th>3</th>\n",
       "      <td>1996-01-04</td>\n",
       "      <td>2.985</td>\n",
       "      <td>2.980</td>\n",
       "      <td>2.940</td>\n",
       "      <td>2.965</td>\n",
       "      <td>0.592428</td>\n",
       "      <td>282000.0</td>\n",
       "    </tr>\n",
       "    <tr>\n",
       "      <th>4</th>\n",
       "      <td>1996-01-05</td>\n",
       "      <td>2.965</td>\n",
       "      <td>2.980</td>\n",
       "      <td>2.950</td>\n",
       "      <td>2.960</td>\n",
       "      <td>0.591429</td>\n",
       "      <td>189000.0</td>\n",
       "    </tr>\n",
       "  </tbody>\n",
       "</table>\n",
       "</div>"
      ],
      "text/plain": [
       "         Date   Open   High    Low  Close  Adj Close    Volume\n",
       "0  1996-01-01  3.030  3.030  2.925  2.980   0.595425  350000.0\n",
       "1  1996-01-02  2.980  3.025  2.950  2.975   0.594426  412000.0\n",
       "2  1996-01-03  2.975  2.995  2.950  2.985   0.596424  284000.0\n",
       "3  1996-01-04  2.985  2.980  2.940  2.965   0.592428  282000.0\n",
       "4  1996-01-05  2.965  2.980  2.950  2.960   0.591429  189000.0"
      ]
     },
     "execution_count": 4,
     "metadata": {},
     "output_type": "execute_result"
    }
   ],
   "source": [
    "df.head()"
   ]
  },
  {
   "cell_type": "code",
   "execution_count": 5,
   "id": "f14c2ff3",
   "metadata": {},
   "outputs": [
    {
     "data": {
      "text/plain": [
       "(6229, 7)"
      ]
     },
     "execution_count": 5,
     "metadata": {},
     "output_type": "execute_result"
    }
   ],
   "source": [
    "df.shape"
   ]
  },
  {
   "cell_type": "code",
   "execution_count": 6,
   "id": "3fdbe4e6",
   "metadata": {},
   "outputs": [
    {
     "data": {
      "text/html": [
       "<div>\n",
       "<style scoped>\n",
       "    .dataframe tbody tr th:only-of-type {\n",
       "        vertical-align: middle;\n",
       "    }\n",
       "\n",
       "    .dataframe tbody tr th {\n",
       "        vertical-align: top;\n",
       "    }\n",
       "\n",
       "    .dataframe thead th {\n",
       "        text-align: right;\n",
       "    }\n",
       "</style>\n",
       "<table border=\"1\" class=\"dataframe\">\n",
       "  <thead>\n",
       "    <tr style=\"text-align: right;\">\n",
       "      <th></th>\n",
       "      <th>Open</th>\n",
       "      <th>High</th>\n",
       "      <th>Low</th>\n",
       "      <th>Close</th>\n",
       "      <th>Adj Close</th>\n",
       "      <th>Volume</th>\n",
       "    </tr>\n",
       "  </thead>\n",
       "  <tbody>\n",
       "    <tr>\n",
       "      <th>count</th>\n",
       "      <td>6102.000000</td>\n",
       "      <td>6102.000000</td>\n",
       "      <td>6102.000000</td>\n",
       "      <td>6102.000000</td>\n",
       "      <td>6102.000000</td>\n",
       "      <td>6.102000e+03</td>\n",
       "    </tr>\n",
       "    <tr>\n",
       "      <th>mean</th>\n",
       "      <td>280.876740</td>\n",
       "      <td>283.718757</td>\n",
       "      <td>277.699139</td>\n",
       "      <td>280.784199</td>\n",
       "      <td>262.166892</td>\n",
       "      <td>4.844925e+06</td>\n",
       "    </tr>\n",
       "    <tr>\n",
       "      <th>std</th>\n",
       "      <td>348.668891</td>\n",
       "      <td>351.470448</td>\n",
       "      <td>345.381472</td>\n",
       "      <td>348.430553</td>\n",
       "      <td>351.118302</td>\n",
       "      <td>5.752826e+06</td>\n",
       "    </tr>\n",
       "    <tr>\n",
       "      <th>min</th>\n",
       "      <td>2.435000</td>\n",
       "      <td>2.450000</td>\n",
       "      <td>2.395000</td>\n",
       "      <td>2.435000</td>\n",
       "      <td>0.486530</td>\n",
       "      <td>0.000000e+00</td>\n",
       "    </tr>\n",
       "    <tr>\n",
       "      <th>25%</th>\n",
       "      <td>23.590000</td>\n",
       "      <td>23.981250</td>\n",
       "      <td>23.126250</td>\n",
       "      <td>23.520000</td>\n",
       "      <td>9.233752</td>\n",
       "      <td>1.567042e+06</td>\n",
       "    </tr>\n",
       "    <tr>\n",
       "      <th>50%</th>\n",
       "      <td>116.000000</td>\n",
       "      <td>119.244999</td>\n",
       "      <td>113.962502</td>\n",
       "      <td>116.799999</td>\n",
       "      <td>82.996315</td>\n",
       "      <td>3.299666e+06</td>\n",
       "    </tr>\n",
       "    <tr>\n",
       "      <th>75%</th>\n",
       "      <td>410.987503</td>\n",
       "      <td>415.281250</td>\n",
       "      <td>406.912498</td>\n",
       "      <td>410.612503</td>\n",
       "      <td>389.092781</td>\n",
       "      <td>6.137584e+06</td>\n",
       "    </tr>\n",
       "    <tr>\n",
       "      <th>max</th>\n",
       "      <td>1305.000000</td>\n",
       "      <td>1305.500000</td>\n",
       "      <td>1288.800049</td>\n",
       "      <td>1302.400024</td>\n",
       "      <td>1302.400024</td>\n",
       "      <td>2.011300e+08</td>\n",
       "    </tr>\n",
       "  </tbody>\n",
       "</table>\n",
       "</div>"
      ],
      "text/plain": [
       "              Open         High          Low        Close    Adj Close  \\\n",
       "count  6102.000000  6102.000000  6102.000000  6102.000000  6102.000000   \n",
       "mean    280.876740   283.718757   277.699139   280.784199   262.166892   \n",
       "std     348.668891   351.470448   345.381472   348.430553   351.118302   \n",
       "min       2.435000     2.450000     2.395000     2.435000     0.486530   \n",
       "25%      23.590000    23.981250    23.126250    23.520000     9.233752   \n",
       "50%     116.000000   119.244999   113.962502   116.799999    82.996315   \n",
       "75%     410.987503   415.281250   406.912498   410.612503   389.092781   \n",
       "max    1305.000000  1305.500000  1288.800049  1302.400024  1302.400024   \n",
       "\n",
       "             Volume  \n",
       "count  6.102000e+03  \n",
       "mean   4.844925e+06  \n",
       "std    5.752826e+06  \n",
       "min    0.000000e+00  \n",
       "25%    1.567042e+06  \n",
       "50%    3.299666e+06  \n",
       "75%    6.137584e+06  \n",
       "max    2.011300e+08  "
      ]
     },
     "execution_count": 6,
     "metadata": {},
     "output_type": "execute_result"
    }
   ],
   "source": [
    "df.describe()"
   ]
  },
  {
   "cell_type": "code",
   "execution_count": 7,
   "id": "dcf540de",
   "metadata": {},
   "outputs": [],
   "source": [
    "df=df.dropna()\n"
   ]
  },
  {
   "cell_type": "code",
   "execution_count": 8,
   "id": "0dddebd8",
   "metadata": {},
   "outputs": [],
   "source": [
    "df.shape\n",
    "df.head()\n",
    "df = df.reset_index(drop=True)\n"
   ]
  },
  {
   "cell_type": "code",
   "execution_count": 9,
   "id": "0f3442ae",
   "metadata": {},
   "outputs": [
    {
     "name": "stdout",
     "output_type": "stream",
     "text": [
      "[-100.           -0.16778523    0.33613445 ...   -0.54263119   -1.09119476\n",
      "   -1.91907222]\n"
     ]
    }
   ],
   "source": [
    "change = np.array([])\n",
    "\n",
    "for i in range(1,6102):\n",
    "    see=((df.iloc[i][\"Close\"]-df.iloc[i-1][\"Close\"])/df.iloc[i-1][\"Close\"])*100\n",
    "    change=np.append(change,see)\n",
    "change=np.insert(change,0,-100)\n",
    "print(change)\n",
    "df[\"change\"]=change.copy()\n",
    "\n",
    "df.drop(0,inplace=True)\n",
    "df = df.reset_index(drop=True)"
   ]
  },
  {
   "cell_type": "code",
   "execution_count": 10,
   "id": "a59a228c",
   "metadata": {},
   "outputs": [
    {
     "data": {
      "text/plain": [
       "(6101, 8)"
      ]
     },
     "execution_count": 10,
     "metadata": {},
     "output_type": "execute_result"
    }
   ],
   "source": [
    "df.shape"
   ]
  },
  {
   "cell_type": "code",
   "execution_count": 11,
   "id": "e39d47db",
   "metadata": {},
   "outputs": [
    {
     "name": "stdout",
     "output_type": "stream",
     "text": [
      "Number of days you won:  1551\n",
      "Number of days you lose:  1504\n",
      "Won amount:  28.85786798755062\n",
      "Loss amount:  -24.30772611826567\n",
      "[[133.43137587461462, -75.192065831726], [137.19028934088587, -87.56231618870117], [129.11361200711147, -152.61703577730106], [266.0553753007703, -147.3214438813562], [106.13332775949156, -93.26544024452693], [97.24558448492249, -90.77355875643667], [69.12378652665085, -67.65308184507876], [112.78976928375428, -87.65763813223731], [99.85861852071966, -63.76929618785731], [108.61306296810172, -68.73096015694699], [116.35177859306579, -84.76695326156025], [116.83808595143547, -102.41738045080976], [193.9307969857479, -179.59004992305168], [335.39561391567935, -173.3606958544241], [81.45128641799187, -66.87555607671767], [93.0765627233236, -63.81521012665046], [64.81137665834825, -54.488693610513], [92.53620242079816, -89.34694375803412], [75.13104088218965, -57.719036296356045], [43.487979808920535, -51.89492551479451], [59.01867690975138, -39.66817946256582], [48.564014104706644, -34.30069303069452], [59.04561912934081, -42.56265689516009], [78.21906002595698, -102.59848217582918]]\n",
      "58.23931004288862\n",
      "49.627973152184694\n",
      "-23.503423770189585\n",
      "118.73393141941412\n",
      "12.867887514964636\n",
      "6.472025728485818\n",
      "1.4707046815720872\n",
      "25.132131151516973\n",
      "36.08932233286235\n",
      "39.882102811154724\n",
      "31.58482533150554\n",
      "14.420705500625715\n",
      "14.34074706269621\n",
      "162.03491806125524\n",
      "14.575730341274195\n",
      "29.26135259667314\n",
      "10.322683047835248\n",
      "3.189258662764047\n",
      "17.412004585833607\n",
      "-8.406945705873973\n",
      "19.35049744718556\n",
      "14.263321074012126\n",
      "16.482962234180718\n",
      "-24.379422149872198\n"
     ]
    }
   ],
   "source": [
    "win=0\n",
    "lose=0\n",
    "target=0\n",
    "winp=0\n",
    "losep=0\n",
    "if(df.iloc[0][\"change\"]>0):\n",
    "    target=1\n",
    "else:\n",
    "    target=0\n",
    "arr=[]\n",
    "count=0\n",
    "for i in range(1,6101):\n",
    "    count=count+1\n",
    "    if(count==251):\n",
    "        see=[winp,losep]\n",
    "        arr.append(see)\n",
    "        count=0\n",
    "        winp=0\n",
    "        losep=0\n",
    "    if(target==0):\n",
    "        if(df.iloc[i][\"change\"]>0):\n",
    "            target=1\n",
    "    else:\n",
    "        if(df.iloc[i][\"change\"]>0):\n",
    "            win=win+1\n",
    "            winp=winp+df.iloc[i][\"change\"]\n",
    "            target=1\n",
    "        else:\n",
    "            lose=lose+1\n",
    "            losep=losep+df.iloc[i][\"change\"]\n",
    "            target=0\n",
    "print(\"Number of days you won: \",win)\n",
    "print(\"Number of days you lose: \",lose)\n",
    "print(\"Won amount: \",winp)\n",
    "print(\"Loss amount: \",losep)\n",
    "print(arr)\n",
    "for i in arr:\n",
    "    print(i[0]+i[1])"
   ]
  },
  {
   "cell_type": "code",
   "execution_count": 12,
   "id": "32466eac",
   "metadata": {},
   "outputs": [
    {
     "name": "stdout",
     "output_type": "stream",
     "text": [
      "40.476844116280546\n",
      "64.58474987006011\n",
      "-12.613903203994425\n",
      "150.67284278159337\n",
      "26.439193470100918\n",
      "-3.524434549284564\n",
      "4.014256745899459\n",
      "45.30374585558724\n",
      "57.3523832132434\n",
      "30.569396307742664\n",
      "47.94191670482482\n",
      "32.13195966665043\n",
      "-33.096082204048855\n",
      "174.81320090208197\n",
      "22.22518112328484\n",
      "19.885140814525414\n",
      "19.37084906203137\n",
      "21.923102386303015\n",
      "34.99066351631859\n",
      "10.484472313603675\n",
      "33.55317719315734\n",
      "26.45982205005825\n",
      "15.24709379114573\n",
      "-16.171187173865917\n"
     ]
    }
   ],
   "source": [
    "win=0\n",
    "lose=0\n",
    "winp=0\n",
    "losep=0\n",
    "arr=[]\n",
    "count=0\n",
    "for i in range(0,6100):\n",
    "    count=count+1\n",
    "    if(count==251):\n",
    "        arr.append([winp,losep])\n",
    "        winp=0\n",
    "        losep=0\n",
    "        count=0\n",
    "    if(df.iloc[i][\"change\"]>0):\n",
    "        win=win+1\n",
    "        winp=winp+df.iloc[i][\"change\"]\n",
    "    else:\n",
    "        lose=lose+1\n",
    "        losep=losep+df.iloc[i][\"change\"]\n",
    "for i in arr:\n",
    "    print(i[0]+i[1])\n",
    "    "
   ]
  },
  {
   "cell_type": "code",
   "execution_count": null,
   "id": "ae440b82",
   "metadata": {},
   "outputs": [],
   "source": []
  },
  {
   "cell_type": "code",
   "execution_count": 12,
   "id": "c887c4c4",
   "metadata": {},
   "outputs": [],
   "source": [
    "import matplotlib.pyplot as plt"
   ]
  },
  {
   "cell_type": "code",
   "execution_count": 13,
   "id": "644d75d5",
   "metadata": {},
   "outputs": [
    {
     "data": {
      "image/png": "[encoded data removed]",
      "text/plain": [
       "<Figure size 432x288 with 1 Axes>"
      ]
     },
     "metadata": {
      "needs_background": "light"
     },
     "output_type": "display_data"
    }
   ],
   "source": [
    "x=np.array(df[\"change\"])\n",
    "\n",
    "plt.hist(x, bins=[-5,-2.5,-2,-1.5,-1,-0.5,0,0.5,1,1.5,2,2.5,5], edgecolor=\"black\") \n",
    "plt.ylabel(\"Frequency\")\n",
    "plt.xlabel(\"Ranges\")\n",
    "plt.grid()\n",
    "plt.title(\"plot\")\n",
    "plt.show()"
   ]
  },
  {
   "cell_type": "code",
   "execution_count": 14,
   "id": "d4f6d466",
   "metadata": {},
   "outputs": [
    {
     "data": {
      "image/png": "[encoded data removed]",
      "text/plain": [
       "<Figure size 432x288 with 1 Axes>"
      ]
     },
     "metadata": {
      "needs_background": "light"
     },
     "output_type": "display_data"
    }
   ],
   "source": [
    "freq={}\n",
    "freq[\"-10 to -5\"]=0\n",
    "freq[\"-5 to -2.5\"]=0\n",
    "freq[\"-2.5 to -2\"]=0\n",
    "freq[\"-2 to -1.5\"]=0\n",
    "freq[\"-1.5 to -1\"]=0\n",
    "freq[\"-1 to -0.5\"]=0\n",
    "freq[\"-0.5 to 0\"]=0\n",
    "freq[\"0 to 0.5\"]=0\n",
    "freq[\"0.5 to 1\"]=0\n",
    "freq[\"1 to 1.5\"]=0\n",
    "freq[\"1.5 to 2\"]=0\n",
    "freq[\"2 to 2.5\"]=0\n",
    "freq[\"2.5 to 5\"]=0\n",
    "freq[\"5 to 10\"]=0\n",
    "\n",
    "x=np.array(df[\"change\"])\n",
    "for ele in x:\n",
    "    if(-10<=ele and ele<=-5):\n",
    "        freq[\"-10 to -5\"]=freq[\"-10 to -5\"]+1\n",
    "    elif(-5<=ele and ele<=-2.5):\n",
    "        freq[\"-5 to -2.5\"]=freq[\"-5 to -2.5\"]+1\n",
    "    elif(-2.5<=ele and ele<=-2):\n",
    "        freq[\"-2.5 to -2\"]=freq[\"-2.5 to -2\"]+1\n",
    "    elif(-2<=ele and ele<=-1.5):\n",
    "        freq[\"-2 to -1.5\"]=freq[\"-2 to -1.5\"]+1\n",
    "    elif(-1.5<=ele and ele<=-1):\n",
    "        freq[\"-1.5 to -1\"]=freq[\"-1.5 to -1\"]+1\n",
    "    elif(-1<=ele and ele<=-0.5):\n",
    "        freq[\"-1 to -0.5\"]=freq[\"-1 to -0.5\"]+1\n",
    "    elif(-0.5<=ele and ele<=0):\n",
    "        freq[\"-0.5 to 0\"]=freq[\"-0.5 to 0\"]+1\n",
    "    elif(0<=ele and ele<=0.5):\n",
    "        freq[\"0 to 0.5\"]=freq[\"0 to 0.5\"]+1\n",
    "    elif(0.5<=ele and ele<=1):\n",
    "        freq[\"0.5 to 1\"]=freq[\"0.5 to 1\"]+1\n",
    "    elif(1<=ele and ele<=1.5):\n",
    "        freq[\"1 to 1.5\"]=freq[\"1 to 1.5\"]+1\n",
    "    elif(1.5<=ele and ele<=2):\n",
    "        freq[\"1.5 to 2\"]=freq[\"1.5 to 2\"]+1\n",
    "    elif(2<=ele and ele<=2.5):\n",
    "        freq[\"2 to 2.5\"]=freq[\"2 to 2.5\"]+1\n",
    "    elif(2.5<=ele and ele<=5):\n",
    "        freq[\"2.5 to 5\"]=freq[\"2.5 to 5\"]+1\n",
    "    elif(5<=ele and ele<=10):\n",
    "        freq[\"5 to 10\"]=freq[\"5 to 10\"]+1\n",
    "    \n",
    "frequency=[freq[\"-10 to -5\"],freq[\"-5 to -2.5\"],freq[\"-2.5 to -2\"],freq[\"-2 to -1.5\"],freq[\"-1.5 to -1\"],freq[\"-1 to -0.5\"],freq[\"-0.5 to 0\"],\n",
    "           freq[\"0 to 0.5\"],freq[\"0.5 to 1\"],freq[\"1 to 1.5\"],freq[\"1.5 to 2\"],freq[\"2 to 2.5\"],freq[\"2.5 to 5\"],freq[\"5 to 10\"]]\n",
    "rangess=[\"-10 to -5\",\"-5 to -2.5\",\"-2.5 to -2\",\"-2 to -1.5\",\"-1.5 to -1\",\"-1 to -0.5\",\"-0.5 to 0\",\"0 to 0.5\",\"0.5 to 1\",\"1 to 1.5\",\n",
    "      \"1.5 to 2\",\"2 to 2.5\",\"2.5 to 5\",\"5 to 10\"]\n",
    "plt.bar(rangess,frequency,width=0.7)\n",
    "plt.xticks(rotation=40)\n",
    "plt.ylabel(\"Frequency\")\n",
    "plt.xlabel(\"Ranges\")\n",
    "plt.grid()\n",
    "plt.title(\"plot\")\n",
    "plt.show()\n",
    "\n",
    "\n"
   ]
  },
  {
   "cell_type": "code",
   "execution_count": 15,
   "id": "22cfdf4c",
   "metadata": {},
   "outputs": [
    {
     "name": "stdout",
     "output_type": "stream",
     "text": [
      "No of days market was positive:  3055\n",
      "Total pos sum:  5056.214317118498\n",
      "No of days market was negative:  2996\n",
      "Total neg sum:  -4226.020164085232\n",
      "Number of days market did not moved:  50\n"
     ]
    }
   ],
   "source": [
    "posDays=0\n",
    "negDays=0\n",
    "pos=0\n",
    "neg=0\n",
    "zero=0\n",
    "for ele in x:\n",
    "    if(ele>0):\n",
    "        pos=pos+ele\n",
    "        posDays=posDays+1\n",
    "    elif(ele<0):\n",
    "        neg=neg+ele\n",
    "        negDays=negDays+1\n",
    "    else:\n",
    "        zero=zero+1\n",
    "print(\"No of days market was positive: \",posDays)\n",
    "print(\"Total pos sum: \",pos)\n",
    "print(\"No of days market was negative: \",negDays)\n",
    "print(\"Total neg sum: \",neg)\n",
    "print(\"Number of days market did not moved: \",zero)"
   ]
  },
  {
   "cell_type": "code",
   "execution_count": 19,
   "id": "2cd822e5",
   "metadata": {},
   "outputs": [
    {
     "name": "stdout",
     "output_type": "stream",
     "text": [
      "{1996: -15.241977691327829, 1997: -1.8100409306010887, 1998: -8.721307544023988, 1999: -21.327444893606945, 2000: 9.669370224825762, 2001: -21.69886802265514, 2002: 11.046940201684174, 2003: 12.316197564305632, 2004: -10.570533344275006, 2005: 20.086207619161165, 2006: -12.518601372738836, 2007: 7.33149337116124, 2008: -15.94758821193279, 2009: -30.767085062727173, 2010: 19.084457047876256, 2011: -2.444304900759349, 2012: -11.276017040504495, 2013: 1.8903369417822353, 2014: 18.928547333094034, 2015: -5.041805746145794, 2016: -2.358106725074109, 2017: 14.167073082586736, 2018: 1.3726086404663518, 2019: 4.567234475630281, 2020: -56.74981876959865}\n"
     ]
    }
   ],
   "source": [
    "import datetime as dt\n",
    "posDays=0\n",
    "negDays=0\n",
    "pos=0\n",
    "neg=0\n",
    "zero=0\n",
    "\n",
    "monday={}\n",
    "tuesday={}\n",
    "wednesday={}\n",
    "thursday={}\n",
    "friday={}\n",
    "for i in range(0,6101):\n",
    "    year=df.iloc[i][\"Date\"][0]+df.iloc[i][\"Date\"][1]+df.iloc[i][\"Date\"][2]+df.iloc[i][\"Date\"][3]\n",
    "    month=df.iloc[i][\"Date\"][5]+df.iloc[i][\"Date\"][6]\n",
    "    day=df.iloc[i][\"Date\"][8]+df.iloc[i][\"Date\"][9]\n",
    "    year=int(year)\n",
    "    month=int(month)\n",
    "    day=int(day)\n",
    "    x_date = dt.date(year, month, day)\n",
    "    no = x_date.weekday()\n",
    "    if(no==0):\n",
    "        ele=df.iloc[i][\"change\"]\n",
    "        if year in monday:\n",
    "            monday[year]=monday[year]+ele\n",
    "        else:\n",
    "            monday[year]=ele\n",
    "    elif(no==1):\n",
    "        ele=df.iloc[i][\"change\"]\n",
    "        if year in tuesday:\n",
    "            tuesday[year]=tuesday[year]+ele\n",
    "        else:\n",
    "            tuesday[year]=ele\n",
    "    elif(no==2):\n",
    "        ele=df.iloc[i][\"change\"]\n",
    "        if year in wednesday:\n",
    "            wednesday[year]=wednesday[year]+ele\n",
    "        else:\n",
    "            wednesday[year]=ele    \n",
    "    elif(no==3):\n",
    "        ele=df.iloc[i][\"change\"]\n",
    "        if year in thursday:\n",
    "            thursday[year]=thursday[year]+ele\n",
    "        else:\n",
    "            thursday[year]=ele\n",
    "    elif(no==4):\n",
    "        ele=df.iloc[i][\"change\"]\n",
    "        if year in friday:\n",
    "            friday[year]=friday[year]+ele\n",
    "        else:\n",
    "            friday[year]=ele\n",
    "    \n",
    "\n",
    "sum=0\n",
    "print(monday)\n",
    "for key,value in monday.items():\n",
    "    sum=sum+value\n",
    "\n",
    "a=sum\n",
    "sum=0\n",
    "for key,value in tuesday.items():\n",
    "    sum=sum+value\n",
    "b=sum\n",
    "sum=0\n",
    "for key,value in wednesday.items():\n",
    "    sum=sum+value\n",
    "\n",
    "c=sum\n",
    "sum=0\n",
    "for key,value in thursday.items():\n",
    "    sum=sum+value\n",
    "d=sum\n",
    "sum=0\n",
    "for key,value in friday.items():\n",
    "    sum=sum+value\n",
    "e=sum\n",
    "\n"
   ]
  },
  {
   "cell_type": "code",
   "execution_count": 20,
   "id": "8ffb249d",
   "metadata": {},
   "outputs": [
    {
     "data": {
      "image/png": "[encoded data removed]",
      "text/plain": [
       "<Figure size 432x288 with 1 Axes>"
      ]
     },
     "metadata": {
      "needs_background": "light"
     },
     "output_type": "display_data"
    }
   ],
   "source": [
    "Sum_day=[a,b,c,d,e]\n",
    "Days=[\"Monday\",\"Tuesday\",\"Wednesday\",\"Thursday\",\"Friday\"]\n",
    "plt.bar(Days,Sum_day,width=0.7)\n",
    "plt.xticks(rotation=40)\n",
    "plt.ylabel(\"Sum of each Day\")\n",
    "plt.xlabel(\"Days\")\n",
    "plt.grid()\n",
    "plt.title(\"plot\")\n",
    "plt.show()"
   ]
  },
  {
   "cell_type": "code",
   "execution_count": null,
   "id": "b50a2871",
   "metadata": {},
   "outputs": [],
   "source": []
  }
 ],
 "metadata": {
  "kernelspec": {
   "display_name": "Python 3 (ipykernel)",
   "language": "python",
   "name": "python3"
  },
  "language_info": {
   "codemirror_mode": {
    "name": "ipython",
    "version": 3
   },
   "file_extension": ".py",
   "mimetype": "text/x-python",
   "name": "python",
   "nbconvert_exporter": "python",
   "pygments_lexer": "ipython3",
   "version": "3.10.5"
  }
 },
 "nbformat": 4,
 "nbformat_minor": 5
}
