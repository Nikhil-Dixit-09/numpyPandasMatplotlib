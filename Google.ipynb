{
 "cells": [
  {
   "cell_type": "code",
   "execution_count": 22,
   "id": "9e399655",
   "metadata": {},
   "outputs": [],
   "source": [
    "import pandas as pd\n",
    "import numpy as np\n",
    "data=pd.read_csv('GOOGLE.csv')"
   ]
  },
  {
   "cell_type": "code",
   "execution_count": 23,
   "id": "ab59cac8",
   "metadata": {},
   "outputs": [],
   "source": [
    "df=data.copy()"
   ]
  },
  {
   "cell_type": "code",
   "execution_count": 24,
   "id": "d25562aa",
   "metadata": {},
   "outputs": [
    {
     "data": {
      "text/html": [
       "<div>\n",
       "<style scoped>\n",
       "    .dataframe tbody tr th:only-of-type {\n",
       "        vertical-align: middle;\n",
       "    }\n",
       "\n",
       "    .dataframe tbody tr th {\n",
       "        vertical-align: top;\n",
       "    }\n",
       "\n",
       "    .dataframe thead th {\n",
       "        text-align: right;\n",
       "    }\n",
       "</style>\n",
       "<table border=\"1\" class=\"dataframe\">\n",
       "  <thead>\n",
       "    <tr style=\"text-align: right;\">\n",
       "      <th></th>\n",
       "      <th>Date</th>\n",
       "      <th>Open</th>\n",
       "      <th>High</th>\n",
       "      <th>Low</th>\n",
       "      <th>Close</th>\n",
       "      <th>Adj Close</th>\n",
       "      <th>Volume</th>\n",
       "    </tr>\n",
       "  </thead>\n",
       "  <tbody>\n",
       "    <tr>\n",
       "      <th>0</th>\n",
       "      <td>2010-01-21</td>\n",
       "      <td>14.531532</td>\n",
       "      <td>14.615717</td>\n",
       "      <td>14.252827</td>\n",
       "      <td>14.520075</td>\n",
       "      <td>14.520075</td>\n",
       "      <td>253253712</td>\n",
       "    </tr>\n",
       "    <tr>\n",
       "      <th>1</th>\n",
       "      <td>2010-01-22</td>\n",
       "      <td>14.059800</td>\n",
       "      <td>14.211731</td>\n",
       "      <td>13.321567</td>\n",
       "      <td>13.698903</td>\n",
       "      <td>13.698903</td>\n",
       "      <td>273035583</td>\n",
       "    </tr>\n",
       "    <tr>\n",
       "      <th>2</th>\n",
       "      <td>2010-01-25</td>\n",
       "      <td>13.613722</td>\n",
       "      <td>13.695665</td>\n",
       "      <td>13.337757</td>\n",
       "      <td>13.449588</td>\n",
       "      <td>13.449588</td>\n",
       "      <td>177458675</td>\n",
       "    </tr>\n",
       "    <tr>\n",
       "      <th>3</th>\n",
       "      <td>2010-01-26</td>\n",
       "      <td>13.399027</td>\n",
       "      <td>13.688691</td>\n",
       "      <td>13.357184</td>\n",
       "      <td>13.509862</td>\n",
       "      <td>13.509862</td>\n",
       "      <td>174873019</td>\n",
       "    </tr>\n",
       "    <tr>\n",
       "      <th>4</th>\n",
       "      <td>2010-01-27</td>\n",
       "      <td>13.481219</td>\n",
       "      <td>13.640123</td>\n",
       "      <td>13.332775</td>\n",
       "      <td>13.501892</td>\n",
       "      <td>13.501892</td>\n",
       "      <td>159170382</td>\n",
       "    </tr>\n",
       "  </tbody>\n",
       "</table>\n",
       "</div>"
      ],
      "text/plain": [
       "         Date       Open       High        Low      Close  Adj Close  \\\n",
       "0  2010-01-21  14.531532  14.615717  14.252827  14.520075  14.520075   \n",
       "1  2010-01-22  14.059800  14.211731  13.321567  13.698903  13.698903   \n",
       "2  2010-01-25  13.613722  13.695665  13.337757  13.449588  13.449588   \n",
       "3  2010-01-26  13.399027  13.688691  13.357184  13.509862  13.509862   \n",
       "4  2010-01-27  13.481219  13.640123  13.332775  13.501892  13.501892   \n",
       "\n",
       "      Volume  \n",
       "0  253253712  \n",
       "1  273035583  \n",
       "2  177458675  \n",
       "3  174873019  \n",
       "4  159170382  "
      ]
     },
     "execution_count": 24,
     "metadata": {},
     "output_type": "execute_result"
    }
   ],
   "source": [
    "df.head()"
   ]
  },
  {
   "cell_type": "code",
   "execution_count": 25,
   "id": "319db077",
   "metadata": {},
   "outputs": [
    {
     "data": {
      "text/plain": [
       "(3483, 7)"
      ]
     },
     "execution_count": 25,
     "metadata": {},
     "output_type": "execute_result"
    }
   ],
   "source": [
    "df.shape"
   ]
  },
  {
   "cell_type": "code",
   "execution_count": 28,
   "id": "643b8567",
   "metadata": {},
   "outputs": [],
   "source": [
    "change = np.array([])\n",
    "\n",
    "for i in range(1,3483):\n",
    "    see=((df.iloc[i][\"Close\"]-df.iloc[i-1][\"Close\"])/df.iloc[i-1][\"Close\"])*100\n",
    "    change=np.append(change,see)\n",
    "change=np.insert(change,0,-100)\n",
    "df[\"change\"]=change.copy()"
   ]
  },
  {
   "cell_type": "code",
   "execution_count": 29,
   "id": "0cc5fca9",
   "metadata": {},
   "outputs": [],
   "source": [
    "df.drop(0,inplace=True)\n",
    "df = df.reset_index(drop=True)"
   ]
  },
  {
   "cell_type": "code",
   "execution_count": 30,
   "id": "d1dd8ed5",
   "metadata": {},
   "outputs": [
    {
     "data": {
      "text/html": [
       "<div>\n",
       "<style scoped>\n",
       "    .dataframe tbody tr th:only-of-type {\n",
       "        vertical-align: middle;\n",
       "    }\n",
       "\n",
       "    .dataframe tbody tr th {\n",
       "        vertical-align: top;\n",
       "    }\n",
       "\n",
       "    .dataframe thead th {\n",
       "        text-align: right;\n",
       "    }\n",
       "</style>\n",
       "<table border=\"1\" class=\"dataframe\">\n",
       "  <thead>\n",
       "    <tr style=\"text-align: right;\">\n",
       "      <th></th>\n",
       "      <th>Date</th>\n",
       "      <th>Open</th>\n",
       "      <th>High</th>\n",
       "      <th>Low</th>\n",
       "      <th>Close</th>\n",
       "      <th>Adj Close</th>\n",
       "      <th>Volume</th>\n",
       "      <th>change</th>\n",
       "    </tr>\n",
       "  </thead>\n",
       "  <tbody>\n",
       "    <tr>\n",
       "      <th>0</th>\n",
       "      <td>2010-01-22</td>\n",
       "      <td>14.059800</td>\n",
       "      <td>14.211731</td>\n",
       "      <td>13.321567</td>\n",
       "      <td>13.698903</td>\n",
       "      <td>13.698903</td>\n",
       "      <td>273035583</td>\n",
       "      <td>-5.655425</td>\n",
       "    </tr>\n",
       "    <tr>\n",
       "      <th>1</th>\n",
       "      <td>2010-01-25</td>\n",
       "      <td>13.613722</td>\n",
       "      <td>13.695665</td>\n",
       "      <td>13.337757</td>\n",
       "      <td>13.449588</td>\n",
       "      <td>13.449588</td>\n",
       "      <td>177458675</td>\n",
       "      <td>-1.819963</td>\n",
       "    </tr>\n",
       "    <tr>\n",
       "      <th>2</th>\n",
       "      <td>2010-01-26</td>\n",
       "      <td>13.399027</td>\n",
       "      <td>13.688691</td>\n",
       "      <td>13.357184</td>\n",
       "      <td>13.509862</td>\n",
       "      <td>13.509862</td>\n",
       "      <td>174873019</td>\n",
       "      <td>0.448148</td>\n",
       "    </tr>\n",
       "    <tr>\n",
       "      <th>3</th>\n",
       "      <td>2010-01-27</td>\n",
       "      <td>13.481219</td>\n",
       "      <td>13.640123</td>\n",
       "      <td>13.332775</td>\n",
       "      <td>13.501892</td>\n",
       "      <td>13.501892</td>\n",
       "      <td>159170382</td>\n",
       "      <td>-0.058994</td>\n",
       "    </tr>\n",
       "    <tr>\n",
       "      <th>4</th>\n",
       "      <td>2010-01-28</td>\n",
       "      <td>13.561418</td>\n",
       "      <td>13.623934</td>\n",
       "      <td>13.215465</td>\n",
       "      <td>13.307371</td>\n",
       "      <td>13.307371</td>\n",
       "      <td>129648138</td>\n",
       "      <td>-1.440694</td>\n",
       "    </tr>\n",
       "  </tbody>\n",
       "</table>\n",
       "</div>"
      ],
      "text/plain": [
       "         Date       Open       High        Low      Close  Adj Close  \\\n",
       "0  2010-01-22  14.059800  14.211731  13.321567  13.698903  13.698903   \n",
       "1  2010-01-25  13.613722  13.695665  13.337757  13.449588  13.449588   \n",
       "2  2010-01-26  13.399027  13.688691  13.357184  13.509862  13.509862   \n",
       "3  2010-01-27  13.481219  13.640123  13.332775  13.501892  13.501892   \n",
       "4  2010-01-28  13.561418  13.623934  13.215465  13.307371  13.307371   \n",
       "\n",
       "      Volume    change  \n",
       "0  273035583 -5.655425  \n",
       "1  177458675 -1.819963  \n",
       "2  174873019  0.448148  \n",
       "3  159170382 -0.058994  \n",
       "4  129648138 -1.440694  "
      ]
     },
     "execution_count": 30,
     "metadata": {},
     "output_type": "execute_result"
    }
   ],
   "source": [
    "df.head()"
   ]
  },
  {
   "cell_type": "code",
   "execution_count": 31,
   "id": "8fe95223",
   "metadata": {},
   "outputs": [
    {
     "data": {
      "text/plain": [
       "(3482, 8)"
      ]
     },
     "execution_count": 31,
     "metadata": {},
     "output_type": "execute_result"
    }
   ],
   "source": [
    "df.shape"
   ]
  },
  {
   "cell_type": "code",
   "execution_count": 33,
   "id": "319e4d52",
   "metadata": {},
   "outputs": [
    {
     "name": "stdout",
     "output_type": "stream",
     "text": [
      "Number of days you won:  963\n",
      "Number of days you lose:  870\n",
      "Won amount:  95.79341598939433\n",
      "Loss amount:  -73.39743346397786\n",
      "[[62.28486837912023, -66.63578547214767], [82.43574397454377, -80.1372820891806], [66.04684933852057, -65.05871953369935], [62.08827122208227, -39.07217434326782], [60.93004673698694, -67.21041924467708], [87.55662863241591, -59.25265080096626], [58.55134583864123, -57.0961792346173], [58.826492931959926, -38.2726505395503], [76.66023774445195, -72.5874346934284], [73.35047973775389, -53.3515066405978], [95.26516372126562, -131.02850683597853], [93.69751488582261, -64.79862965542029], [90.84280284582816, -127.56784813021649]]\n",
      "-4.350917093027441\n",
      "2.2984618853631673\n",
      "0.9881298048212273\n",
      "23.01609687881445\n",
      "-6.280372507690146\n",
      "28.30397783144965\n",
      "1.4551666040239297\n",
      "20.553842392409628\n",
      "4.072803051023541\n",
      "19.99897309715609\n",
      "-35.76334311471291\n",
      "28.89888523040233\n",
      "-36.72504528438833\n"
     ]
    }
   ],
   "source": [
    "win=0\n",
    "lose=0\n",
    "target=0\n",
    "winp=0\n",
    "losep=0\n",
    "if(df.iloc[0][\"change\"]>0):\n",
    "    target=1\n",
    "else:\n",
    "    target=0\n",
    "count=0\n",
    "arr=[]\n",
    "for i in range(1,3482):\n",
    "    count=count+1\n",
    "    if(count==251):\n",
    "        see=[winp,losep]\n",
    "        arr.append(see)\n",
    "        count=0\n",
    "        winp=0\n",
    "        losep=0\n",
    "    if(target==0):\n",
    "        if(df.iloc[i][\"change\"]>0):\n",
    "            target=1\n",
    "    else:\n",
    "        if(df.iloc[i][\"change\"]>0):\n",
    "            win=win+1\n",
    "            winp=winp+df.iloc[i][\"change\"]\n",
    "            target=1\n",
    "        else:\n",
    "            lose=lose+1\n",
    "            losep=losep+df.iloc[i][\"change\"]\n",
    "            target=0\n",
    "print(\"Number of days you won: \",win)\n",
    "print(\"Number of days you lose: \",lose)\n",
    "print(\"Won amount: \",winp)\n",
    "print(\"Loss amount: \",losep)\n",
    "print(arr)\n",
    "for i in arr:\n",
    "    print(i[0]+i[1])\n"
   ]
  },
  {
   "cell_type": "code",
   "execution_count": 34,
   "id": "52f8bfa0",
   "metadata": {},
   "outputs": [
    {
     "name": "stdout",
     "output_type": "stream",
     "text": [
      "13.070472490691941\n",
      "2.6488889005410954\n",
      "15.46017003395825\n",
      "49.70309186975892\n",
      "-11.329510664195794\n",
      "38.11127812819868\n",
      "16.14885842747877\n",
      "32.308933894898345\n",
      "1.1218123169776675\n",
      "31.03322728947748\n",
      "30.391691844215075\n",
      "46.0953540918933\n",
      "-38.721308346457505\n"
     ]
    }
   ],
   "source": [
    "win=0\n",
    "lose=0\n",
    "winp=0\n",
    "losep=0\n",
    "arr=[]\n",
    "count=0\n",
    "for i in range(0,3481):\n",
    "    count=count+1\n",
    "    if(count==251):\n",
    "        arr.append([winp,losep])\n",
    "        winp=0\n",
    "        losep=0\n",
    "        count=0\n",
    "    if(df.iloc[i][\"change\"]>0):\n",
    "        win=win+1\n",
    "        winp=winp+df.iloc[i][\"change\"]\n",
    "    else:\n",
    "        lose=lose+1\n",
    "        losep=losep+df.iloc[i][\"change\"]\n",
    "for i in arr:\n",
    "    print(i[0]+i[1])\n",
    "    "
   ]
  }
 ],
 "metadata": {
  "kernelspec": {
   "display_name": "Python 3 (ipykernel)",
   "language": "python",
   "name": "python3"
  },
  "language_info": {
   "codemirror_mode": {
    "name": "ipython",
    "version": 3
   },
   "file_extension": ".py",
   "mimetype": "text/x-python",
   "name": "python",
   "nbconvert_exporter": "python",
   "pygments_lexer": "ipython3",
   "version": "3.10.5"
  }
 },
 "nbformat": 4,
 "nbformat_minor": 5
}
