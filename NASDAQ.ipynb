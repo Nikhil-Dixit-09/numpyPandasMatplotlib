{
 "cells": [
  {
   "cell_type": "code",
   "execution_count": 1,
   "id": "f34bdc8b",
   "metadata": {},
   "outputs": [],
   "source": [
    "import pandas as pd\n",
    "import numpy as np\n",
    "data=pd.read_csv('NASDAQ.csv')"
   ]
  },
  {
   "cell_type": "code",
   "execution_count": 2,
   "id": "2ba4a19b",
   "metadata": {},
   "outputs": [],
   "source": [
    "df=data.copy()"
   ]
  },
  {
   "cell_type": "code",
   "execution_count": 3,
   "id": "7d8c2f2d",
   "metadata": {},
   "outputs": [
    {
     "data": {
      "text/html": [
       "<div>\n",
       "<style scoped>\n",
       "    .dataframe tbody tr th:only-of-type {\n",
       "        vertical-align: middle;\n",
       "    }\n",
       "\n",
       "    .dataframe tbody tr th {\n",
       "        vertical-align: top;\n",
       "    }\n",
       "\n",
       "    .dataframe thead th {\n",
       "        text-align: right;\n",
       "    }\n",
       "</style>\n",
       "<table border=\"1\" class=\"dataframe\">\n",
       "  <thead>\n",
       "    <tr style=\"text-align: right;\">\n",
       "      <th></th>\n",
       "      <th>Date</th>\n",
       "      <th>Close/Last</th>\n",
       "      <th>Open</th>\n",
       "      <th>High</th>\n",
       "      <th>Low</th>\n",
       "    </tr>\n",
       "  </thead>\n",
       "  <tbody>\n",
       "    <tr>\n",
       "      <th>0</th>\n",
       "      <td>11/20/2023</td>\n",
       "      <td>14284.53</td>\n",
       "      <td>14134.75</td>\n",
       "      <td>14309.80</td>\n",
       "      <td>14134.20</td>\n",
       "    </tr>\n",
       "    <tr>\n",
       "      <th>1</th>\n",
       "      <td>11/17/2023</td>\n",
       "      <td>14125.48</td>\n",
       "      <td>14101.44</td>\n",
       "      <td>14154.32</td>\n",
       "      <td>14063.93</td>\n",
       "    </tr>\n",
       "    <tr>\n",
       "      <th>2</th>\n",
       "      <td>11/16/2023</td>\n",
       "      <td>14113.67</td>\n",
       "      <td>14066.88</td>\n",
       "      <td>14130.45</td>\n",
       "      <td>14033.79</td>\n",
       "    </tr>\n",
       "    <tr>\n",
       "      <th>3</th>\n",
       "      <td>11/15/2023</td>\n",
       "      <td>14103.84</td>\n",
       "      <td>14147.27</td>\n",
       "      <td>14194.36</td>\n",
       "      <td>14060.70</td>\n",
       "    </tr>\n",
       "    <tr>\n",
       "      <th>4</th>\n",
       "      <td>11/14/2023</td>\n",
       "      <td>14094.38</td>\n",
       "      <td>14015.37</td>\n",
       "      <td>14124.06</td>\n",
       "      <td>14003.14</td>\n",
       "    </tr>\n",
       "  </tbody>\n",
       "</table>\n",
       "</div>"
      ],
      "text/plain": [
       "         Date  Close/Last      Open      High       Low\n",
       "0  11/20/2023    14284.53  14134.75  14309.80  14134.20\n",
       "1  11/17/2023    14125.48  14101.44  14154.32  14063.93\n",
       "2  11/16/2023    14113.67  14066.88  14130.45  14033.79\n",
       "3  11/15/2023    14103.84  14147.27  14194.36  14060.70\n",
       "4  11/14/2023    14094.38  14015.37  14124.06  14003.14"
      ]
     },
     "execution_count": 3,
     "metadata": {},
     "output_type": "execute_result"
    }
   ],
   "source": [
    "df.head()"
   ]
  },
  {
   "cell_type": "code",
   "execution_count": 4,
   "id": "c5c70b2f",
   "metadata": {},
   "outputs": [
    {
     "data": {
      "text/plain": [
       "(2536, 5)"
      ]
     },
     "execution_count": 4,
     "metadata": {},
     "output_type": "execute_result"
    }
   ],
   "source": [
    "df.shape"
   ]
  },
  {
   "cell_type": "code",
   "execution_count": 5,
   "id": "7cd74af4",
   "metadata": {},
   "outputs": [],
   "source": [
    "df.head()\n",
    "see=np.array([])\n",
    "for i in range(0,2535):\n",
    "    change=(((df.iloc[i][\"Close/Last\"]-df.iloc[i+1][\"Close/Last\"])/df.iloc[i+1][\"Close/Last\"])*100)\n",
    "    see=np.append(see,change)\n"
   ]
  },
  {
   "cell_type": "code",
   "execution_count": 6,
   "id": "d300f20f",
   "metadata": {},
   "outputs": [],
   "source": [
    "df.drop(df.tail(1).index,inplace=True) "
   ]
  },
  {
   "cell_type": "code",
   "execution_count": 7,
   "id": "07deb38e",
   "metadata": {},
   "outputs": [],
   "source": [
    "df[\"change\"]=see"
   ]
  },
  {
   "cell_type": "code",
   "execution_count": 8,
   "id": "a11029bd",
   "metadata": {},
   "outputs": [
    {
     "data": {
      "text/plain": [
       "(2535, 6)"
      ]
     },
     "execution_count": 8,
     "metadata": {},
     "output_type": "execute_result"
    }
   ],
   "source": [
    "df.head()\n",
    "\n",
    "df.shape"
   ]
  },
  {
   "cell_type": "code",
   "execution_count": 9,
   "id": "ec2132ff",
   "metadata": {},
   "outputs": [
    {
     "name": "stdout",
     "output_type": "stream",
     "text": [
      "Number of days you won:  740\n",
      "Number of days you lose:  651\n",
      "Won amount:  9.99729855583506\n",
      "Loss amount:  -3.8421833400174914\n",
      "[[43.678857288523645, -37.269821742038104], [44.25027134387175, -37.260840222128024], [42.9867713255086, -52.67637028958315], [38.33954013219567, -29.699631554633932], [41.08565808604608, -43.47114104266769], [59.51564689892401, -48.45300998169541], [85.76835549985026, -96.55680200003866], [58.99557676937103, -55.11304988802676], [83.00239920971403, -104.91900994987056], [65.36026044693348, -55.47366539697056]]\n",
      "6.409035546485541\n",
      "6.989431121743728\n",
      "-9.689598964074548\n",
      "8.63990857756174\n",
      "-2.3854829566216083\n",
      "11.062636917228602\n",
      "-10.7884465001884\n",
      "3.882526881344269\n",
      "-21.91661074015653\n",
      "9.88659504996292\n"
     ]
    }
   ],
   "source": [
    "win=0\n",
    "lose=0\n",
    "target=0\n",
    "winp=0\n",
    "losep=0\n",
    "if(df.iloc[2534][\"change\"]>0):\n",
    "    target=1\n",
    "else:\n",
    "    target=0\n",
    "arr=[]\n",
    "count=0\n",
    "for i in range(2533,-1,-1):\n",
    "    count=count+1\n",
    "    if(count==251):\n",
    "        see=[winp,losep]\n",
    "        arr.append(see)\n",
    "        count=0\n",
    "        winp=0\n",
    "        losep=0\n",
    "    if(target==0):\n",
    "        if(df.iloc[i][\"change\"]>0):\n",
    "            target=1\n",
    "    else:\n",
    "        if(df.iloc[i][\"change\"]>0):\n",
    "            win=win+1\n",
    "            winp=winp+df.iloc[i][\"change\"]\n",
    "            target=1\n",
    "        else:\n",
    "            lose=lose+1\n",
    "            losep=losep+df.iloc[i][\"change\"]\n",
    "            target=0\n",
    "print(\"Number of days you won: \",win)\n",
    "print(\"Number of days you lose: \",lose)\n",
    "print(\"Won amount: \",winp)\n",
    "print(\"Loss amount: \",losep)\n",
    "print(arr)\n",
    "for i in arr:\n",
    "    print(i[0]+i[1])"
   ]
  }
 ],
 "metadata": {
  "kernelspec": {
   "display_name": "Python 3 (ipykernel)",
   "language": "python",
   "name": "python3"
  },
  "language_info": {
   "codemirror_mode": {
    "name": "ipython",
    "version": 3
   },
   "file_extension": ".py",
   "mimetype": "text/x-python",
   "name": "python",
   "nbconvert_exporter": "python",
   "pygments_lexer": "ipython3",
   "version": "3.10.5"
  }
 },
 "nbformat": 4,
 "nbformat_minor": 5
}
